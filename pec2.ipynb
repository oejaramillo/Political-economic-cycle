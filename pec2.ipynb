{
 "cells": [
  {
   "cell_type": "code",
   "execution_count": 1,
   "metadata": {},
   "outputs": [
    {
     "name": "stdout",
     "output_type": "stream",
     "text": [
      "Política óptima: [0.17108372]\n"
     ]
    }
   ],
   "source": [
    "import numpy as np\n",
    "from quantecon import LQ\n",
    "\n",
    "# Parámetros del problema LQ\n",
    "Q = 1.0  # Peso en la función objetivo para la variable de estado\n",
    "R = 0.5  # Peso en la función objetivo para la variable de control\n",
    "A = 0.9  # Parámetro del estado en la ecuación de transición del estado\n",
    "B = 0.1  # Parámetro de control en la ecuación de transición del estado\n",
    "beta = 0.95  # Factor de descuento\n",
    "\n",
    "# Instanciar y resolver el problema LQ\n",
    "lq = LQ(Q, R, A, B, beta=beta)\n",
    "P, F, d = lq.stationary_values()\n",
    "\n",
    "# Mostrar la política óptima\n",
    "print(f\"Política óptima: {F[0]}\")\n"
   ]
  }
 ],
 "metadata": {
  "kernelspec": {
   "display_name": "Python 3",
   "language": "python",
   "name": "python3"
  },
  "language_info": {
   "codemirror_mode": {
    "name": "ipython",
    "version": 3
   },
   "file_extension": ".py",
   "mimetype": "text/x-python",
   "name": "python",
   "nbconvert_exporter": "python",
   "pygments_lexer": "ipython3",
   "version": "3.11.2"
  }
 },
 "nbformat": 4,
 "nbformat_minor": 2
}
