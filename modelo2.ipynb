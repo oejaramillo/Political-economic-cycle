{
 "cells": [
  {
   "cell_type": "code",
   "execution_count": 87,
   "metadata": {},
   "outputs": [],
   "source": [
    "import numpy as np\n",
    "import scipy.stats as stats\n",
    "from scipy.optimize import minimize"
   ]
  },
  {
   "cell_type": "markdown",
   "metadata": {},
   "source": [
    "Parámetros"
   ]
  },
  {
   "cell_type": "code",
   "execution_count": 88,
   "metadata": {},
   "outputs": [],
   "source": [
    "y = 10\n",
    "a = 1\n",
    "b = 1\n",
    "beta = 0.9\n",
    "T = 10\n",
    "\n",
    "# Initial guess for optimizations\n",
    "x0 = [1, 1]  # Adjust as needed"
   ]
  },
  {
   "cell_type": "markdown",
   "metadata": {},
   "source": [
    "Funciones"
   ]
  },
  {
   "cell_type": "code",
   "execution_count": 89,
   "metadata": {},
   "outputs": [],
   "source": [
    "# Define the pi_rho function\n",
    "def pi_rho(tau, g, d, h, eta_ti):\n",
    "    return 1 / (1 + np.exp(d * g - h * tau - eta_ti))"
   ]
  },
  {
   "cell_type": "code",
   "execution_count": 90,
   "metadata": {},
   "outputs": [],
   "source": [
    "# Define the U function\n",
    "def U(c, g, a, b):\n",
    "    return a * np.log(c) + b * np.log(g)\n",
    "\n",
    "# Define the V function\n",
    "def V(k):\n",
    "    return -np.log(k)\n",
    "\n",
    "# Define the W function\n",
    "def W(g, tau, epsilon, y, a, b, beta):\n",
    "    return U(y - tau, g, a, b) + beta * V(tau + epsilon - g)\n"
   ]
  },
  {
   "cell_type": "markdown",
   "metadata": {},
   "source": [
    "Funciones estocasticas"
   ]
  },
  {
   "cell_type": "code",
   "execution_count": 91,
   "metadata": {},
   "outputs": [],
   "source": [
    "def generate_ar1(phi, sigma, T):\n",
    "    # Initial value is a random normal variable\n",
    "    series = [np.random.normal(0, sigma)]\n",
    "\n",
    "    for t in range(1, T):\n",
    "        series.append(phi * series[t-1] + np.random.normal(0, sigma))\n",
    "\n",
    "    return np.array(series)"
   ]
  },
  {
   "cell_type": "code",
   "execution_count": 92,
   "metadata": {},
   "outputs": [],
   "source": [
    "length = 15  # Length of the time series\n",
    "# Parameters for the AR(1) processes\n",
    "# Incumbent\n",
    "phi_alpha_i = 10  # AR coefficient for alpha\n",
    "sigma_alpha_i = 0.1  # Std dev for alpha\n",
    "\n",
    "phi_q_i = 10  # AR coefficient for q\n",
    "sigma_q_i = 0.1  # Std dev for q\n",
    "\n",
    "# Oponent\n",
    "phi_alpha_o = 10  # AR coefficient for alpha\n",
    "sigma_alpha_o = 0.1  # Std dev for alpha\n",
    "\n",
    "phi_q_o = 10  # AR coefficient for q\n",
    "sigma_q_o = 0.1  # Std dev for q\n",
    "\n",
    "#_________________________\n",
    "# Generate the AR(1) series\n",
    "# Incumbent\n",
    "alpha_series_i = generate_ar1(phi_alpha_i, sigma_alpha_i, length)\n",
    "q_series_i = generate_ar1(phi_q_i, sigma_q_i, length)\n",
    "\n",
    "# Oponent\n",
    "alpha_series_o = generate_ar1(phi_alpha_o, sigma_alpha_o, length)\n",
    "q_series_o = generate_ar1(phi_q_o, sigma_q_o, length)\n",
    "\n",
    "#_________________________\n",
    "# Calculate epsilon and eta\n",
    "# Incumbent\n",
    "epsilon_ti = alpha_series_i[1:] + alpha_series_i[:-1]\n",
    "eta_ti = q_series_i[1:] + q_series_i[:-1]\n",
    "\n",
    "# Oponent\n",
    "epsilon_to = alpha_series_o[1:] + alpha_series_o[:-1]\n",
    "eta_to = q_series_o[1:] + q_series_o[:-1]\n"
   ]
  },
  {
   "cell_type": "markdown",
   "metadata": {},
   "source": [
    "Estimacion bayesiana de los valores de Omega"
   ]
  },
  {
   "cell_type": "code",
   "execution_count": 93,
   "metadata": {},
   "outputs": [],
   "source": [
    "# Just for the incumbent, because we can't condition, the opponent, rudimentary bayesian theory estimation\n",
    "# Example prior parameters\n",
    "phi_alpha_prior = 10  # AR observed coefficient for alpha\n",
    "sigma_alpha_prior = 0.1  # Std dev observed coefficient for alpha\n",
    "\n",
    "# Generate the AR(1) series\n",
    "alpha_prior_series = generate_ar1(phi_alpha_prior, sigma_alpha_prior, T)\n",
    "\n",
    "# Observed Epsilon\n",
    "observed_epsilon = alpha_prior_series[1:] + alpha_prior_series[:-1]\n",
    "\n",
    "# Update phi's prior based on observed data (this is a simplified example)\n",
    "# In reality, this step can be complex and may require numerical methods\n",
    "phi_mu_posterior = np.mean(observed_epsilon)\n",
    "phi_sigma_posterior = np.std(observed_epsilon) / np.sqrt(len(observed_epsilon))\n",
    "\n",
    "# Update sigma's prior similarly (this is also simplified)\n",
    "# sigma_mu_posterior = np.std(observed_epsilon)\n",
    "# sigma_sigma_posterior = np.std(observed_epsilon) / np.sqrt(len(observed_epsilon))\n",
    "\n",
    "# Simulate future values of epsilon\n",
    "simulated_epsilons = np.random.normal(phi_mu_posterior, phi_sigma_posterior, 15)\n"
   ]
  },
  {
   "cell_type": "code",
   "execution_count": 94,
   "metadata": {},
   "outputs": [],
   "source": [
    "def constraint1(x, y):\n",
    "    # y - tau >= 0\n",
    "    return y - x[0]\n",
    "\n",
    "def constraint2(x):\n",
    "    # g >= 0\n",
    "    return x[1]\n",
    "\n",
    "def constraint3(x, epsilon):\n",
    "    # tau + epsilon - g >= 0\n",
    "    return x[0] + epsilon - x[1]"
   ]
  },
  {
   "cell_type": "code",
   "execution_count": 95,
   "metadata": {},
   "outputs": [],
   "source": [
    "def optimizador_W(T, y, beta, a, b, epsilon):\n",
    "    tau_optimo = []\n",
    "    g_optimo = []\n",
    "    valores_max = []\n",
    "\n",
    "    for t in range(T):\n",
    "        # Itera sobre los valores de competencia del agente\n",
    "        epsilon_t = epsilon[t]\n",
    "\n",
    "        # Restricciones por cada periodo de tiempo(epsilon)\n",
    "        con1 = {'type': 'ineq', 'fun': constraint1, 'args': (y,)}\n",
    "        con2 = {'type': 'ineq', 'fun': constraint2}\n",
    "        con3 = {'type': 'ineq', 'fun': constraint3, 'args': (epsilon_t,)}\n",
    "\n",
    "        # Combinamos las restricciones en una lista\n",
    "        constraints_t = [con1, con2, con3]\n",
    "\n",
    "        # Optimiza para ese periodo de tiempo t\n",
    "        resultado_t = minimize(W, x0, args=(y, epsilon_t, beta, a, b), constraints=constraints_t)\n",
    "\n",
    "        # Guarda los resultados para cada periodo de tiempo\n",
    "        tau_optimo.append(resultado_t.x[0])\n",
    "        g_optimo.append(resultado_t.x[1])\n",
    "        valores_max.append(resultado_t.fun)\n",
    "\n",
    "    return tau_optimo, g_optimo, valores_max"
   ]
  },
  {
   "cell_type": "code",
   "execution_count": 96,
   "metadata": {},
   "outputs": [
    {
     "data": {
      "text/plain": [
       "array([-8.73773280e-01, -8.92801577e+00, -8.92993282e+01, -8.93049659e+02,\n",
       "       -8.93066975e+03, -8.93068241e+04, -8.93068278e+05, -8.93068259e+06,\n",
       "       -8.93068258e+07, -8.93068258e+08, -8.93068258e+09, -8.93068258e+10,\n",
       "       -8.93068258e+11, -8.93068258e+12])"
      ]
     },
     "execution_count": 96,
     "metadata": {},
     "output_type": "execute_result"
    }
   ],
   "source": [
    "epsilon_to"
   ]
  },
  {
   "cell_type": "code",
   "execution_count": 97,
   "metadata": {},
   "outputs": [
    {
     "data": {
      "text/plain": [
       "array([51451690.29278793,  8915559.67123432, 16739522.47215603,\n",
       "        4167412.54001501, 17936297.77129753, 25116188.75054247,\n",
       "       25819062.43682639, 17707261.54960422, 33506400.08349054,\n",
       "       30999659.32455696, -2711433.65254923, 10740402.72903084,\n",
       "       10410695.84614083, 33051716.12856565, 23781758.35489866])"
      ]
     },
     "execution_count": 97,
     "metadata": {},
     "output_type": "execute_result"
    }
   ],
   "source": [
    "simulated_epsilons"
   ]
  },
  {
   "cell_type": "code",
   "execution_count": 75,
   "metadata": {},
   "outputs": [
    {
     "ename": "IndexError",
     "evalue": "invalid index to scalar variable.",
     "output_type": "error",
     "traceback": [
      "\u001b[1;31m---------------------------------------------------------------------------\u001b[0m",
      "\u001b[1;31mIndexError\u001b[0m                                Traceback (most recent call last)",
      "Cell \u001b[1;32mIn[75], line 4\u001b[0m\n\u001b[0;32m      2\u001b[0m Omega_i_values \u001b[38;5;241m=\u001b[39m []\n\u001b[0;32m      3\u001b[0m \u001b[38;5;28;01mfor\u001b[39;00m epsilon \u001b[38;5;129;01min\u001b[39;00m simulated_epsilons:  \u001b[38;5;66;03m# Optimize Omega with the epsilon conditioned observed values\u001b[39;00m\n\u001b[1;32m----> 4\u001b[0m     Omega_i_values\u001b[38;5;241m.\u001b[39mappend(\u001b[43moptimizador_W\u001b[49m\u001b[43m(\u001b[49m\u001b[43mT\u001b[49m\u001b[43m,\u001b[49m\u001b[43m \u001b[49m\u001b[43my\u001b[49m\u001b[43m,\u001b[49m\u001b[43m \u001b[49m\u001b[43mbeta\u001b[49m\u001b[43m,\u001b[49m\u001b[43m \u001b[49m\u001b[43ma\u001b[49m\u001b[43m,\u001b[49m\u001b[43m \u001b[49m\u001b[43mb\u001b[49m\u001b[43m,\u001b[49m\u001b[43m \u001b[49m\u001b[43mepsilon\u001b[49m\u001b[43m)\u001b[49m)\n\u001b[0;32m      6\u001b[0m Omega_i \u001b[38;5;241m=\u001b[39m np\u001b[38;5;241m.\u001b[39mmean(Omega_i_values) \u001b[38;5;66;03m# Expected value\u001b[39;00m\n\u001b[0;32m      8\u001b[0m \u001b[38;5;66;03m# For Omega_O \u001b[39;00m\n",
      "Cell \u001b[1;32mIn[74], line 8\u001b[0m, in \u001b[0;36moptimizador_W\u001b[1;34m(T, y, beta, a, b, epsilon)\u001b[0m\n\u001b[0;32m      4\u001b[0m valores_max \u001b[38;5;241m=\u001b[39m []\n\u001b[0;32m      6\u001b[0m \u001b[38;5;28;01mfor\u001b[39;00m t \u001b[38;5;129;01min\u001b[39;00m \u001b[38;5;28mrange\u001b[39m(T):\n\u001b[0;32m      7\u001b[0m     \u001b[38;5;66;03m# Itera sobre los valores de competencia del agente\u001b[39;00m\n\u001b[1;32m----> 8\u001b[0m     epsilon_t \u001b[38;5;241m=\u001b[39m \u001b[43mepsilon\u001b[49m\u001b[43m[\u001b[49m\u001b[43mt\u001b[49m\u001b[43m]\u001b[49m\n\u001b[0;32m     10\u001b[0m     \u001b[38;5;66;03m# Restricciones por cada periodo de tiempo(epsilon)\u001b[39;00m\n\u001b[0;32m     11\u001b[0m     con1 \u001b[38;5;241m=\u001b[39m {\u001b[38;5;124m'\u001b[39m\u001b[38;5;124mtype\u001b[39m\u001b[38;5;124m'\u001b[39m: \u001b[38;5;124m'\u001b[39m\u001b[38;5;124mineq\u001b[39m\u001b[38;5;124m'\u001b[39m, \u001b[38;5;124m'\u001b[39m\u001b[38;5;124mfun\u001b[39m\u001b[38;5;124m'\u001b[39m: constraint1, \u001b[38;5;124m'\u001b[39m\u001b[38;5;124margs\u001b[39m\u001b[38;5;124m'\u001b[39m: (y,)}\n",
      "\u001b[1;31mIndexError\u001b[0m: invalid index to scalar variable."
     ]
    }
   ],
   "source": [
    "# For Omega_i\n",
    "Omega_i_values = []\n",
    "for epsilon in simulated_epsilons:  # Optimize Omega with the epsilon conditioned observed values\n",
    "    Omega_i_values.append(optimizador_W(T, y, beta, a, b, epsilon))\n",
    "\n",
    "Omega_i = np.mean(Omega_i_values) # Expected value\n",
    "\n",
    "# For Omega_O \n",
    "Omega_O_values = []\n",
    "for epsilon in epsilon_to:  # With the real oponents stochastic values, we can't dondition opponent values\n",
    "    Omega_O_values.append(optimizador_W(T, y, beta, a, b, epsilon))\n",
    "\n",
    "Omega_O = np.mean(Omega_O_values) # Expected value"
   ]
  },
  {
   "cell_type": "markdown",
   "metadata": {},
   "source": [
    "________________"
   ]
  },
  {
   "cell_type": "markdown",
   "metadata": {},
   "source": [
    "Estimacion de montecarlo no bayesiana"
   ]
  },
  {
   "cell_type": "code",
   "execution_count": null,
   "metadata": {},
   "outputs": [],
   "source": [
    "def simulate_omega(W_function, epsilon_distributions, num_simulations=10000):\n",
    "    \"\"\"\n",
    "    Simulate Omega value using Monte Carlo Simulation.\n",
    "    :param W_function: The W function to maximize.\n",
    "    :param epsilon_distributions: A function that generates realizations of epsilon.\n",
    "    :param num_simulations: Number of simulations to run.\n",
    "    :return: Estimated Omega value.\n",
    "    \"\"\"\n",
    "    W_star_values = []\n",
    "\n",
    "    for _ in range(num_simulations):\n",
    "        epsilon_realization = epsilon_distributions()\n",
    "        # Solve the maximization problem for W with the given epsilon\n",
    "        result = maximize_W(W_function, epsilon_realization)\n",
    "        if result.success:\n",
    "            W_star_values.append(result.fun)  # Assuming maximization\n",
    "\n",
    "    return np.mean(W_star_values)\n",
    "\n",
    "# Example usage\n",
    "# You need to define `maximize_W` function and `epsilon_distribution`\n",
    "Omega_i = simulate_omega(W, epsilon_distribution_for_Omega_i)\n",
    "Omega_O = simulate_omega(W, epsilon_distribution_for_Omega_O)\n"
   ]
  },
  {
   "cell_type": "markdown",
   "metadata": {},
   "source": [
    "____________________"
   ]
  },
  {
   "cell_type": "code",
   "execution_count": null,
   "metadata": {},
   "outputs": [],
   "source": [
    "# Parameters\n",
    "beta = ...\n",
    "X = ...\n",
    "epsilon_i = ...\n",
    "\n",
    "# Objective Function\n",
    "def objective(vars, epsilon_ti, eta_ti):\n",
    "    g, tau = vars\n",
    "    pi_rho_value = pi_rho(tau, g, d, h, eta_ti)\n",
    "    W_value = W(g, tau, epsilon_ti, y, a, b, beta)\n",
    "    return -1 * (beta * (X * (1 + beta) + Omega_i - Omega_O) * pi_rho_value + W_value)\n",
    "\n",
    "\n",
    "# Constraints\n",
    "constraints = [\n",
    "    {'type': 'ineq', 'fun': lambda vars: vars[0]},  # g >= 0\n",
    "    {'type': 'ineq', 'fun': lambda vars: vars[1]},  # tau >= 0\n",
    "    {'type': 'ineq', 'fun': lambda vars: vars[1] + epsilon_i - vars[0]}  # tau + epsilon_i - g >= 0\n",
    "]"
   ]
  },
  {
   "cell_type": "code",
   "execution_count": null,
   "metadata": {},
   "outputs": [],
   "source": [
    "# Initial guess\n",
    "initial_guess = [1, 1]  # Adjust as needed\n",
    "\n",
    "# Example time period t\n",
    "t = ...  # specify the time period\n",
    "\n",
    "# Solve the problem for time period t\n",
    "result = minimize(lambda vars: objective(vars, epsilon_ti[t], eta_ti[t]), initial_guess, constraints=constraints)\n",
    "\n",
    "# Output the result for time period t\n",
    "if result.success:\n",
    "    optimized_g, optimized_tau = result.x\n",
    "    print(f\"Optimized g: {optimized_g}, Optimized tau: {optimized_tau} for time period {t}\")\n",
    "else:\n",
    "    print(\"Optimization failed for time period {t}.\")"
   ]
  }
 ],
 "metadata": {
  "kernelspec": {
   "display_name": "Python 3",
   "language": "python",
   "name": "python3"
  },
  "language_info": {
   "codemirror_mode": {
    "name": "ipython",
    "version": 3
   },
   "file_extension": ".py",
   "mimetype": "text/x-python",
   "name": "python",
   "nbconvert_exporter": "python",
   "pygments_lexer": "ipython3",
   "version": "3.11.3"
  }
 },
 "nbformat": 4,
 "nbformat_minor": 2
}
