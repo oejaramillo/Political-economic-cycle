{
 "cells": [
  {
   "cell_type": "code",
   "execution_count": 52,
   "metadata": {},
   "outputs": [],
   "source": [
    "import numpy as np\n",
    "from scipy.optimize import minimize\n",
    "import matplotlib.pyplot as plt"
   ]
  },
  {
   "cell_type": "markdown",
   "metadata": {},
   "source": [
    "El votante representativo se preocupa por el valor esperado de su función de utilidad  $\\mathbb{E}_{t}^{P}(\\Gamma_{t})$\n",
    "\n",
    "<ul>\n",
    "    <li>c representa el consumo del bien privado por parte de un ciudadano representativo.</li>\n",
    "    <li>g es el consumo del bien público (per cápita)</li>\n",
    "    <li>k es la inversión pública (per cápita)</li>\n",
    "</ul>"
   ]
  },
  {
   "cell_type": "markdown",
   "metadata": {},
   "source": [
    "Función de utilidad del líder $\\mathbf{E}_{t}^{I}(\\Gamma_{t})+\\sum_{s=t}^{T}\\beta^{s-t}X\\pi_{s,t}$"
   ]
  },
  {
   "cell_type": "markdown",
   "metadata": {},
   "source": [
    "Función de elección del líder\n",
    "\n",
    "\\begin{equation}\n",
    "    v_{t} =\n",
    "    \\begin{cases}\n",
    "        1 &  \\text{si } \\mathbf{E}_{t}^{P}(\\Gamma_{t+1}) \\geq \\mathbf{E}_{t}^{P}(\\Gamma_{t+1}^{O})\\\\\n",
    "        0 & \\text{en otro caso}\\\\\n",
    "\\end{cases}\n",
    "\\end{equation}"
   ]
  },
  {
   "cell_type": "markdown",
   "metadata": {},
   "source": [
    "## Equilibrio bajo información completa\n",
    "\n",
    "\\begin{equation}\n",
    "    \\begin{aligned}\n",
    "        \\max_{\\tau, g} & U(y-\\tau, g)+\\beta V(\\tau + \\epsilon - g) \\\\\n",
    "        \\text{sujeto a } & g, y- \\tau, \\tau + \\epsilon-g \\geq 0 \\\\\n",
    "   \\end{aligned}\n",
    "\\end{equation}"
   ]
  },
  {
   "cell_type": "markdown",
   "metadata": {},
   "source": [
    "\\begin{equation}\n",
    "    \\begin{aligned}\n",
    "        \\max_{\\tau, g} & (y-\\tau, g)+\\beta V(\\tau + \\epsilon - g) \\\\\n",
    "        \\text{sujeto a } & g, y- \\tau, \\tau + \\epsilon-g \\geq 0 \\\\\n",
    "   \\end{aligned}\n",
    "\\end{equation}"
   ]
  },
  {
   "cell_type": "markdown",
   "metadata": {},
   "source": [
    "### En $t=\\bar{t}$"
   ]
  },
  {
   "cell_type": "code",
   "execution_count": 53,
   "metadata": {},
   "outputs": [],
   "source": [
    "# Parámetros\n",
    "a, b = 1, 1\n",
    "beta = 0.95\n",
    "\n",
    "y = 100  # Valor exógeno"
   ]
  },
  {
   "cell_type": "markdown",
   "metadata": {},
   "source": [
    "$$ \\epsilon_{t}^{i} = \\alpha_{t}^{i} + \\alpha_{t-1}^{i}$$\n",
    "$$ \\eta_{t}^{i} = q_{t}^{i} + q_{t-1}^{i}$$"
   ]
  },
  {
   "cell_type": "markdown",
   "metadata": {},
   "source": [
    "$$U(c, g) = a \\ln{c} + b\\ln{g}$$\n",
    "$$V(k) = -\\ln{k}$$"
   ]
  },
  {
   "cell_type": "markdown",
   "metadata": {},
   "source": [
    "### Problema de maximizacion en T periodos de tiempo"
   ]
  },
  {
   "cell_type": "code",
   "execution_count": 54,
   "metadata": {},
   "outputs": [],
   "source": [
    "# Parametros\n",
    "T = 10\n",
    "y = 100\n",
    "t = 0\n",
    "beta = 0.95\n",
    "\n",
    "a, b = 1, 1"
   ]
  },
  {
   "cell_type": "code",
   "execution_count": 55,
   "metadata": {},
   "outputs": [],
   "source": [
    "# Probabilidad de que el agente i sea competente en el periodo t \n",
    "p = 0.5\n",
    "# Rango de valores donde viven los shocks de apariencia\n",
    "q_r = range(-10,10) "
   ]
  },
  {
   "cell_type": "code",
   "execution_count": 56,
   "metadata": {},
   "outputs": [],
   "source": [
    "# Valores aleatorios\n",
    "alpha1_i = np.random.binomial(1, p, T-t)\n",
    "alpha2_i = np.random.binomial(1, p, T-t)\n",
    "\n",
    "alpha1_o = np.random.binomial(1, p, T-t)\n",
    "alpha2_o = np.random.binomial(1, p, T-t)\n",
    "\n",
    "epsilon_i = alpha1_i + alpha2_i # competencia del Incumbente independiente entre agentes y en el tiempo\n",
    "epsilon_o = alpha1_o + alpha2_o # competencia del Oponente independiente entre agentes y en el tiempo\n",
    "\n",
    "# -------------------------------------------------------------------------------------------------------------------\n",
    "q1_i = np.random.choice(q_r, T-t)\n",
    "q2_i = np.random.choice(q_r, T-t)\n",
    "\n",
    "q1_o = np.random.choice(q_r, T-t)\n",
    "q2_o = np.random.choice(q_r, T-t)\n",
    "\n",
    "eta_i = q1_i + q2_i # Shock no relacionado con la competencia pero si con el liderazgo del Incumbente independiente entre agentes y en el tiempo\n",
    "eta_o = q1_o + q2_o # Shock no relacionado con la competencia pero si con el liderazgo del Oponente independiente entre agentes y en el tiempo"
   ]
  },
  {
   "cell_type": "code",
   "execution_count": 57,
   "metadata": {},
   "outputs": [],
   "source": [
    "# Definimos la funcion objetivo\n",
    "def funcion_objetivo(x, y, epsilon, beta, a, b):\n",
    "    tau, g = x\n",
    "    c = y - tau\n",
    "    k = tau + epsilon - g\n",
    "    return -(a * np.log(c) + b * np.log(g) + beta * (-np.log(k)))  # Negativo porque usamos un minimizador de scipy\n",
    "\n",
    "# Restricciones (Constraints)\n",
    "def constraint1(x, y):\n",
    "    # y - tau >= 0\n",
    "    return y - x[0]\n",
    "\n",
    "def constraint2(x):\n",
    "    # g >= 0\n",
    "    return x[1]\n",
    "\n",
    "def constraint3(x, epsilon):\n",
    "    # tau + epsilon - g >= 0\n",
    "    return x[0] + epsilon - x[1]"
   ]
  },
  {
   "cell_type": "code",
   "execution_count": 58,
   "metadata": {},
   "outputs": [],
   "source": [
    "# Guess inicial (Por ahora tau y g empiezan tomando valores en la mitad de su rango permitido)\n",
    "x0 = [y/2, y/4]"
   ]
  },
  {
   "cell_type": "markdown",
   "metadata": {},
   "source": [
    "______________________"
   ]
  },
  {
   "cell_type": "markdown",
   "metadata": {},
   "source": [
    "## Parte dinamica"
   ]
  },
  {
   "cell_type": "code",
   "execution_count": 59,
   "metadata": {},
   "outputs": [],
   "source": [
    "# Funcion para optimizar en cada periodo de tiempo\n",
    "def optimizador_cada_t(T, y, beta, a, b, epsilon):\n",
    "    tau_optimo = []\n",
    "    g_optimo = []\n",
    "    valores_max = []\n",
    "\n",
    "    for t in range(T):\n",
    "        # Itera sobre los valores de competencia del agente\n",
    "        epsilon_t = epsilon[t]\n",
    "\n",
    "        # Restricciones por cada periodo de tiempo(epsilon)\n",
    "        con1 = {'type': 'ineq', 'fun': constraint1, 'args': (y,)}\n",
    "        con2 = {'type': 'ineq', 'fun': constraint2}\n",
    "        con3 = {'type': 'ineq', 'fun': constraint3, 'args': (epsilon_t,)}\n",
    "\n",
    "        # Combinamos las restricciones en una lista\n",
    "        constraints_t = [con1, con2, con3]\n",
    "\n",
    "        # Optimiza para ese periodo de tiempo t\n",
    "        resultado_t = minimize(funcion_objetivo, x0, args=(y, epsilon_t, beta, a, b), constraints=constraints_t)\n",
    "\n",
    "        # Guarda los resultados para cada periodo de tiempo\n",
    "        tau_optimo.append(resultado_t.x[0])\n",
    "        g_optimo.append(resultado_t.x[1])\n",
    "        valores_max.append(-resultado_t.fun)\n",
    "\n",
    "    return tau_optimo, g_optimo, valores_max"
   ]
  },
  {
   "cell_type": "code",
   "execution_count": 60,
   "metadata": {},
   "outputs": [
    {
     "name": "stderr",
     "output_type": "stream",
     "text": [
      "C:\\Users\\oscar\\AppData\\Local\\Temp\\ipykernel_10184\\1139613495.py:6: RuntimeWarning: invalid value encountered in log\n",
      "  return -(a * np.log(c) + b * np.log(g) + beta * (-np.log(k)))  # Negativo porque usamos un minimizador de scipy\n"
     ]
    }
   ],
   "source": [
    "# Optimiza T veces para el incumbente\n",
    "tau_i_optimos_lista, g_i_optimos_lista, utilidades_i_maximos = optimizador_cada_t(T, y, beta, a, b, epsilon_i)\n",
    "\n",
    "# Valor esperado\n",
    "tau_i_esperado = np.mean(tau_i_optimos_lista)\n",
    "g_i_esperado = np.mean(g_i_optimos_lista)\n",
    "\n",
    "utilida_esperada_i = np.mean(utilidades_i_maximos)"
   ]
  },
  {
   "cell_type": "markdown",
   "metadata": {},
   "source": [
    "### Modelo con asimetría de información|"
   ]
  },
  {
   "cell_type": "markdown",
   "metadata": {},
   "source": [
    "Si los votantes observan el último shock de competencia del incumbente antes de votar $\\alpha_{i}$, entonces las expectativas hacia el incumbente serian.\n",
    "$$ \\mathbf{E}_{t}^{P}[W^{*}(\\epsilon_{t+1})|\\alpha_{t}=\\alpha^{i}]=\\Omega^{i}$$\n",
    "Donde $i=H, L$ para los tipos compententes y no competentes en un modelo de senalizacion \n",
    "\n",
    "Para el caso del oponente, no se observa cuan competente es, entonces:\n",
    "$$\\mathbf{E}_{t}^{P}[W^{*}(\\epsilon_{t+1}^{O})]=\\Omega^{O}$$\n"
   ]
  },
  {
   "cell_type": "markdown",
   "metadata": {},
   "source": [
    "El problema de maximizacion del incumbente de tipo $i=H, L$ seria:\n",
    "$$\\begin{equation}\n",
    "    \\begin{aligned}\n",
    "        \\max_{\\tau, g} & \\beta[X(1+\\beta) + \\Omega^{i}-\\Omega^{O}]\\pi[\\hat{\\rho}(g,\\tau)]+ W(g, \\tau, \\epsilon^{i}) \\\\\n",
    "        \\text{sujeto a } & g, y- \\tau, \\tau + \\epsilon^{i}-g \\geq 0 \\\\\n",
    "    \\end{aligned}\n",
    "    \\end{equation}$$"
   ]
  },
  {
   "cell_type": "markdown",
   "metadata": {},
   "source": [
    "Para la probabilidad de ganar elegimos una función que toma valores entre 0 y 1 con una relación positiva en g y una negativa en tau para reflejar las preferencias de los agentes por bajos impuestos y alto consumo público, al hacer esto le permitimos al agente manipular $\\tau$ y $g$ pero al no modelar el valor esperado de la funcion de votos estariamos tambien quitandole cierta logica al agente racional que no estaria comparando sus utilidades esperadas con el incumbente y con el nuevo."
   ]
  },
  {
   "cell_type": "markdown",
   "metadata": {},
   "source": [
    "$$\\begin{equation}\n",
    "    \\begin{aligned}\n",
    "        \\pi[\\hat{\\rho}(\\tau, g)] = \\mathbf{E}^{I}(v|g, \\tau)\n",
    "    \\end{aligned}\n",
    "    \\end{equation}$$\n"
   ]
  },
  {
   "cell_type": "markdown",
   "metadata": {},
   "source": [
    "$$\\begin{equation}\n",
    "    \\begin{aligned}\n",
    "        \\pi[\\hat{\\rho}(\\tau, g)] = \\frac{1}{1+e^{dg-h\\tau+m}}\n",
    "    \\end{aligned}\n",
    "    \\end{equation}$$\n",
    "\n",
    "Donde: $d$, $h$ y $m$ son valores positivos que controlan la sensibilidad de la funcion logistica elegida, calibrar estos valores para reflejar la probabilidad de ganar del incumbente tambien sera un ejercicio clave que podria hacerse a traves de las encuestas, la funcion $\\Gamma$ debe ser utilizada para determinar la funcion de votacion comparando esas utilidades esperadas, solo de esa manera se inserta dentro la probabilidad, igual se podria usar esta probabilidad"
   ]
  },
  {
   "cell_type": "code",
   "execution_count": 61,
   "metadata": {},
   "outputs": [
    {
     "data": {
      "text/plain": [
       "-4.072966796671556"
      ]
     },
     "execution_count": 61,
     "metadata": {},
     "output_type": "execute_result"
    }
   ],
   "source": [
    "funcion_objetivo(x0, 100, epsilon_i[t], beta, a, b)"
   ]
  },
  {
   "cell_type": "code",
   "execution_count": 62,
   "metadata": {},
   "outputs": [],
   "source": [
    "def funcion_objetivo(x, y, epsilon, beta, a, b):\n",
    "    tau, g = x\n",
    "    c = y - tau\n",
    "    k = tau + epsilon - g\n",
    "    return -(a * np.log(c) + b * np.log(g) + beta * (-np.log(k)))  # Negativo porque usamos un minimizador de scipy\n",
    "\n",
    "def gamma(x, y, eta, beta, epsilon, t, T, a, b):\n",
    "    tau, g = x\n",
    "    c = y - tau\n",
    "    k = tau + epsilon - g\n",
    "    return sum([(a * np.log(c) + b * np.log(g) + (-np.log(k[s])) + eta[s])*beta**(s-t) for s in range(t, T)])\n",
    "\n",
    "def pi(x, d, h, eta_i):\n",
    "    tau, g = x\n",
    "    return 1/(1+np.exp(d*g-h*tau+eta_i[t]))\n"
   ]
  },
  {
   "cell_type": "code",
   "execution_count": 64,
   "metadata": {},
   "outputs": [],
   "source": [
    "# Funcion para optimizar en cada periodo de tiempo\n",
    "def optimizador_cada_t(T, y, beta, a, b, epsilon):\n",
    "    tau_optimo = []\n",
    "    g_optimo = []\n",
    "    valores_max = []\n",
    "\n",
    "    for t in range(T):\n",
    "        # Itera sobre los valores de competencia del agente\n",
    "        epsilon_t = epsilon[t]\n",
    "\n",
    "        # Restricciones por cada periodo de tiempo(epsilon)\n",
    "        con1 = {'type': 'ineq', 'fun': constraint1, 'args': (y,)}\n",
    "        con2 = {'type': 'ineq', 'fun': constraint2}\n",
    "        con3 = {'type': 'ineq', 'fun': constraint3, 'args': (epsilon_t,)}\n",
    "\n",
    "        # Combinamos las restricciones en una lista\n",
    "        constraints_t = [con1, con2, con3]\n",
    "\n",
    "        # Optimiza para ese periodo de tiempo t\n",
    "        resultado_t = minimize(funcion_objetivo, x0, args=(y, epsilon_t, beta, a, b), constraints=constraints_t)\n",
    "\n",
    "        # Guarda los resultados para cada periodo de tiempo\n",
    "        tau_optimo.append(resultado_t.x[0])\n",
    "        g_optimo.append(resultado_t.x[1])\n",
    "        valores_max.append(-resultado_t.fun)\n",
    "\n",
    "    return tau_optimo, g_optimo, valores_max"
   ]
  },
  {
   "cell_type": "markdown",
   "metadata": {},
   "source": [
    "El problema de maximizacion del incumbente de tipo $i=H, L$ seria:\n",
    "$$\\begin{equation}\n",
    "    \\begin{aligned}\n",
    "        \\max_{\\tau, g} & \\beta[X(1+\\beta) + \\Omega^{i}-\\Omega^{O}]\\pi[\\hat{\\rho}(g,\\tau)]+ W(g, \\tau, \\epsilon^{i}) \\\\\n",
    "        \\text{sujeto a } & g, y- \\tau, \\tau + \\epsilon^{i}-g \\geq 0 \\\\\n",
    "    \\end{aligned}\n",
    "    \\end{equation}$$"
   ]
  },
  {
   "cell_type": "code",
   "execution_count": 65,
   "metadata": {},
   "outputs": [],
   "source": [
    "def asimetria(x, y, a, b, t, T, beta, epsilon_i, epsilon_o, X, d, h, eta_i):\n",
    "    lista_tau_i, lista_g_i, lista_utilidades_i = optimizador_cada_t(T, y, beta, a, b, epsilon_i)\n",
    "    lista_tau_o, lista_g_o, lista_utilidades_o = optimizador_cada_t(T, y, beta, a, b, epsilon_o)\n",
    "    valor_pi = pi(x, d, h, eta_i[t])  # puede ser cambiado por alguna expresión que compare los resultados de la función Gamma\n",
    "    w_i = -funcion_objetivo(x, y, epsilon_i[t], beta, a, b)\n",
    "\n",
    "    return (beta*(X*(1+beta) + np.mean(lista_utilidades_i)-np.mean(lista_utilidades_o))*valor_pi + w_i)"
   ]
  },
  {
   "cell_type": "code",
   "execution_count": 66,
   "metadata": {},
   "outputs": [
    {
     "ename": "TypeError",
     "evalue": "asimetria() missing 1 required positional argument: 'T'",
     "output_type": "error",
     "traceback": [
      "\u001b[1;31m---------------------------------------------------------------------------\u001b[0m",
      "\u001b[1;31mTypeError\u001b[0m                                 Traceback (most recent call last)",
      "Cell \u001b[1;32mIn[66], line 1\u001b[0m\n\u001b[1;32m----> 1\u001b[0m \u001b[43masimetria\u001b[49m\u001b[43m(\u001b[49m\u001b[43mx0\u001b[49m\u001b[43m,\u001b[49m\u001b[43m \u001b[49m\u001b[43my\u001b[49m\u001b[43m,\u001b[49m\u001b[43m \u001b[49m\u001b[43ma\u001b[49m\u001b[43m,\u001b[49m\u001b[43m \u001b[49m\u001b[43mb\u001b[49m\u001b[43m,\u001b[49m\u001b[43m \u001b[49m\u001b[43mT\u001b[49m\u001b[43m,\u001b[49m\u001b[43m \u001b[49m\u001b[43mbeta\u001b[49m\u001b[38;5;241;43m=\u001b[39;49m\u001b[43mbeta\u001b[49m\u001b[43m,\u001b[49m\u001b[43m \u001b[49m\u001b[43mepsilon_i\u001b[49m\u001b[38;5;241;43m=\u001b[39;49m\u001b[43mepsilon_i\u001b[49m\u001b[43m,\u001b[49m\u001b[43m \u001b[49m\u001b[43mepsilon_o\u001b[49m\u001b[38;5;241;43m=\u001b[39;49m\u001b[43mepsilon_o\u001b[49m\u001b[43m,\u001b[49m\u001b[43m \u001b[49m\u001b[43mX\u001b[49m\u001b[38;5;241;43m=\u001b[39;49m\u001b[38;5;241;43m1\u001b[39;49m\u001b[43m,\u001b[49m\u001b[43m \u001b[49m\u001b[43md\u001b[49m\u001b[38;5;241;43m=\u001b[39;49m\u001b[38;5;241;43m0.5\u001b[39;49m\u001b[43m,\u001b[49m\u001b[43m \u001b[49m\u001b[43mh\u001b[49m\u001b[38;5;241;43m=\u001b[39;49m\u001b[38;5;241;43m0.2\u001b[39;49m\u001b[43m,\u001b[49m\u001b[43m \u001b[49m\u001b[43meta_i\u001b[49m\u001b[38;5;241;43m=\u001b[39;49m\u001b[43meta_i\u001b[49m\u001b[43m)\u001b[49m\n",
      "\u001b[1;31mTypeError\u001b[0m: asimetria() missing 1 required positional argument: 'T'"
     ]
    }
   ],
   "source": [
    "asimetria(x0, y, a, b, T, beta=beta, epsilon_i=epsilon_i, epsilon_o=epsilon_o, X=1, d=0.5, h=0.2, eta_i=eta_i)"
   ]
  },
  {
   "cell_type": "code",
   "execution_count": 67,
   "metadata": {},
   "outputs": [
    {
     "ename": "TypeError",
     "evalue": "asimetria() missing 1 required positional argument: 'eta_i'",
     "output_type": "error",
     "traceback": [
      "\u001b[1;31m---------------------------------------------------------------------------\u001b[0m",
      "\u001b[1;31mTypeError\u001b[0m                                 Traceback (most recent call last)",
      "Cell \u001b[1;32mIn[67], line 29\u001b[0m\n\u001b[0;32m     21\u001b[0m constraints \u001b[38;5;241m=\u001b[39m (\n\u001b[0;32m     22\u001b[0m     {\u001b[38;5;124m'\u001b[39m\u001b[38;5;124mtype\u001b[39m\u001b[38;5;124m'\u001b[39m: \u001b[38;5;124m'\u001b[39m\u001b[38;5;124mineq\u001b[39m\u001b[38;5;124m'\u001b[39m, \u001b[38;5;124m'\u001b[39m\u001b[38;5;124mfun\u001b[39m\u001b[38;5;124m'\u001b[39m: restriccion1, \u001b[38;5;124m'\u001b[39m\u001b[38;5;124margs\u001b[39m\u001b[38;5;124m'\u001b[39m: (y,)},\n\u001b[0;32m     23\u001b[0m     {\u001b[38;5;124m'\u001b[39m\u001b[38;5;124mtype\u001b[39m\u001b[38;5;124m'\u001b[39m: \u001b[38;5;124m'\u001b[39m\u001b[38;5;124mineq\u001b[39m\u001b[38;5;124m'\u001b[39m, \u001b[38;5;124m'\u001b[39m\u001b[38;5;124mfun\u001b[39m\u001b[38;5;124m'\u001b[39m: restriccion2},\n\u001b[0;32m     24\u001b[0m     {\u001b[38;5;124m'\u001b[39m\u001b[38;5;124mtype\u001b[39m\u001b[38;5;124m'\u001b[39m: \u001b[38;5;124m'\u001b[39m\u001b[38;5;124mineq\u001b[39m\u001b[38;5;124m'\u001b[39m, \u001b[38;5;124m'\u001b[39m\u001b[38;5;124mfun\u001b[39m\u001b[38;5;124m'\u001b[39m: restriccion3, \u001b[38;5;124m'\u001b[39m\u001b[38;5;124margs\u001b[39m\u001b[38;5;124m'\u001b[39m: (epsilon_i,)}  \u001b[38;5;66;03m# Aquí epsilon_i es un escalar\u001b[39;00m\n\u001b[0;32m     25\u001b[0m )\n\u001b[0;32m     28\u001b[0m \u001b[38;5;66;03m# Realizar la optimización\u001b[39;00m\n\u001b[1;32m---> 29\u001b[0m resultado \u001b[38;5;241m=\u001b[39m \u001b[43mminimize\u001b[49m\u001b[43m(\u001b[49m\u001b[43moptimizacion\u001b[49m\u001b[43m,\u001b[49m\u001b[43m \u001b[49m\u001b[43mx0\u001b[49m\u001b[43m,\u001b[49m\u001b[43m \u001b[49m\u001b[43margs\u001b[49m\u001b[38;5;241;43m=\u001b[39;49m\u001b[43margs\u001b[49m\u001b[43m,\u001b[49m\u001b[43m \u001b[49m\u001b[43mconstraints\u001b[49m\u001b[38;5;241;43m=\u001b[39;49m\u001b[43mconstraints\u001b[49m\u001b[43m)\u001b[49m\n\u001b[0;32m     31\u001b[0m \u001b[38;5;66;03m# Resultados óptimos\u001b[39;00m\n\u001b[0;32m     32\u001b[0m tau_optimo, g_optimo \u001b[38;5;241m=\u001b[39m resultado\u001b[38;5;241m.\u001b[39mx\n",
      "File \u001b[1;32mc:\\Users\\oscar\\AppData\\Local\\Programs\\Python\\Python311\\Lib\\site-packages\\scipy\\optimize\\_minimize.py:719\u001b[0m, in \u001b[0;36mminimize\u001b[1;34m(fun, x0, args, method, jac, hess, hessp, bounds, constraints, tol, callback, options)\u001b[0m\n\u001b[0;32m    716\u001b[0m     res \u001b[38;5;241m=\u001b[39m _minimize_cobyla(fun, x0, args, constraints, callback\u001b[38;5;241m=\u001b[39mcallback,\n\u001b[0;32m    717\u001b[0m                            bounds\u001b[38;5;241m=\u001b[39mbounds, \u001b[38;5;241m*\u001b[39m\u001b[38;5;241m*\u001b[39moptions)\n\u001b[0;32m    718\u001b[0m \u001b[38;5;28;01melif\u001b[39;00m meth \u001b[38;5;241m==\u001b[39m \u001b[38;5;124m'\u001b[39m\u001b[38;5;124mslsqp\u001b[39m\u001b[38;5;124m'\u001b[39m:\n\u001b[1;32m--> 719\u001b[0m     res \u001b[38;5;241m=\u001b[39m \u001b[43m_minimize_slsqp\u001b[49m\u001b[43m(\u001b[49m\u001b[43mfun\u001b[49m\u001b[43m,\u001b[49m\u001b[43m \u001b[49m\u001b[43mx0\u001b[49m\u001b[43m,\u001b[49m\u001b[43m \u001b[49m\u001b[43margs\u001b[49m\u001b[43m,\u001b[49m\u001b[43m \u001b[49m\u001b[43mjac\u001b[49m\u001b[43m,\u001b[49m\u001b[43m \u001b[49m\u001b[43mbounds\u001b[49m\u001b[43m,\u001b[49m\n\u001b[0;32m    720\u001b[0m \u001b[43m                          \u001b[49m\u001b[43mconstraints\u001b[49m\u001b[43m,\u001b[49m\u001b[43m \u001b[49m\u001b[43mcallback\u001b[49m\u001b[38;5;241;43m=\u001b[39;49m\u001b[43mcallback\u001b[49m\u001b[43m,\u001b[49m\u001b[43m \u001b[49m\u001b[38;5;241;43m*\u001b[39;49m\u001b[38;5;241;43m*\u001b[39;49m\u001b[43moptions\u001b[49m\u001b[43m)\u001b[49m\n\u001b[0;32m    721\u001b[0m \u001b[38;5;28;01melif\u001b[39;00m meth \u001b[38;5;241m==\u001b[39m \u001b[38;5;124m'\u001b[39m\u001b[38;5;124mtrust-constr\u001b[39m\u001b[38;5;124m'\u001b[39m:\n\u001b[0;32m    722\u001b[0m     res \u001b[38;5;241m=\u001b[39m _minimize_trustregion_constr(fun, x0, args, jac, hess, hessp,\n\u001b[0;32m    723\u001b[0m                                        bounds, constraints,\n\u001b[0;32m    724\u001b[0m                                        callback\u001b[38;5;241m=\u001b[39mcallback, \u001b[38;5;241m*\u001b[39m\u001b[38;5;241m*\u001b[39moptions)\n",
      "File \u001b[1;32mc:\\Users\\oscar\\AppData\\Local\\Programs\\Python\\Python311\\Lib\\site-packages\\scipy\\optimize\\_slsqp_py.py:374\u001b[0m, in \u001b[0;36m_minimize_slsqp\u001b[1;34m(func, x0, args, jac, bounds, constraints, maxiter, ftol, iprint, disp, eps, callback, finite_diff_rel_step, **unknown_options)\u001b[0m\n\u001b[0;32m    371\u001b[0m     xu[infbnd[:, \u001b[38;5;241m1\u001b[39m]] \u001b[38;5;241m=\u001b[39m np\u001b[38;5;241m.\u001b[39mnan\n\u001b[0;32m    373\u001b[0m \u001b[38;5;66;03m# ScalarFunction provides function and gradient evaluation\u001b[39;00m\n\u001b[1;32m--> 374\u001b[0m sf \u001b[38;5;241m=\u001b[39m \u001b[43m_prepare_scalar_function\u001b[49m\u001b[43m(\u001b[49m\u001b[43mfunc\u001b[49m\u001b[43m,\u001b[49m\u001b[43m \u001b[49m\u001b[43mx\u001b[49m\u001b[43m,\u001b[49m\u001b[43m \u001b[49m\u001b[43mjac\u001b[49m\u001b[38;5;241;43m=\u001b[39;49m\u001b[43mjac\u001b[49m\u001b[43m,\u001b[49m\u001b[43m \u001b[49m\u001b[43margs\u001b[49m\u001b[38;5;241;43m=\u001b[39;49m\u001b[43margs\u001b[49m\u001b[43m,\u001b[49m\u001b[43m \u001b[49m\u001b[43mepsilon\u001b[49m\u001b[38;5;241;43m=\u001b[39;49m\u001b[43meps\u001b[49m\u001b[43m,\u001b[49m\n\u001b[0;32m    375\u001b[0m \u001b[43m                              \u001b[49m\u001b[43mfinite_diff_rel_step\u001b[49m\u001b[38;5;241;43m=\u001b[39;49m\u001b[43mfinite_diff_rel_step\u001b[49m\u001b[43m,\u001b[49m\n\u001b[0;32m    376\u001b[0m \u001b[43m                              \u001b[49m\u001b[43mbounds\u001b[49m\u001b[38;5;241;43m=\u001b[39;49m\u001b[43mnew_bounds\u001b[49m\u001b[43m)\u001b[49m\n\u001b[0;32m    377\u001b[0m \u001b[38;5;66;03m# gh11403 SLSQP sometimes exceeds bounds by 1 or 2 ULP, make sure this\u001b[39;00m\n\u001b[0;32m    378\u001b[0m \u001b[38;5;66;03m# doesn't get sent to the func/grad evaluator.\u001b[39;00m\n\u001b[0;32m    379\u001b[0m wrapped_fun \u001b[38;5;241m=\u001b[39m _clip_x_for_func(sf\u001b[38;5;241m.\u001b[39mfun, new_bounds)\n",
      "File \u001b[1;32mc:\\Users\\oscar\\AppData\\Local\\Programs\\Python\\Python311\\Lib\\site-packages\\scipy\\optimize\\_optimize.py:383\u001b[0m, in \u001b[0;36m_prepare_scalar_function\u001b[1;34m(fun, x0, jac, args, bounds, epsilon, finite_diff_rel_step, hess)\u001b[0m\n\u001b[0;32m    379\u001b[0m     bounds \u001b[38;5;241m=\u001b[39m (\u001b[38;5;241m-\u001b[39mnp\u001b[38;5;241m.\u001b[39minf, np\u001b[38;5;241m.\u001b[39minf)\n\u001b[0;32m    381\u001b[0m \u001b[38;5;66;03m# ScalarFunction caches. Reuse of fun(x) during grad\u001b[39;00m\n\u001b[0;32m    382\u001b[0m \u001b[38;5;66;03m# calculation reduces overall function evaluations.\u001b[39;00m\n\u001b[1;32m--> 383\u001b[0m sf \u001b[38;5;241m=\u001b[39m \u001b[43mScalarFunction\u001b[49m\u001b[43m(\u001b[49m\u001b[43mfun\u001b[49m\u001b[43m,\u001b[49m\u001b[43m \u001b[49m\u001b[43mx0\u001b[49m\u001b[43m,\u001b[49m\u001b[43m \u001b[49m\u001b[43margs\u001b[49m\u001b[43m,\u001b[49m\u001b[43m \u001b[49m\u001b[43mgrad\u001b[49m\u001b[43m,\u001b[49m\u001b[43m \u001b[49m\u001b[43mhess\u001b[49m\u001b[43m,\u001b[49m\n\u001b[0;32m    384\u001b[0m \u001b[43m                    \u001b[49m\u001b[43mfinite_diff_rel_step\u001b[49m\u001b[43m,\u001b[49m\u001b[43m \u001b[49m\u001b[43mbounds\u001b[49m\u001b[43m,\u001b[49m\u001b[43m \u001b[49m\u001b[43mepsilon\u001b[49m\u001b[38;5;241;43m=\u001b[39;49m\u001b[43mepsilon\u001b[49m\u001b[43m)\u001b[49m\n\u001b[0;32m    386\u001b[0m \u001b[38;5;28;01mreturn\u001b[39;00m sf\n",
      "File \u001b[1;32mc:\\Users\\oscar\\AppData\\Local\\Programs\\Python\\Python311\\Lib\\site-packages\\scipy\\optimize\\_differentiable_functions.py:158\u001b[0m, in \u001b[0;36mScalarFunction.__init__\u001b[1;34m(self, fun, x0, args, grad, hess, finite_diff_rel_step, finite_diff_bounds, epsilon)\u001b[0m\n\u001b[0;32m    155\u001b[0m     \u001b[38;5;28mself\u001b[39m\u001b[38;5;241m.\u001b[39mf \u001b[38;5;241m=\u001b[39m fun_wrapped(\u001b[38;5;28mself\u001b[39m\u001b[38;5;241m.\u001b[39mx)\n\u001b[0;32m    157\u001b[0m \u001b[38;5;28mself\u001b[39m\u001b[38;5;241m.\u001b[39m_update_fun_impl \u001b[38;5;241m=\u001b[39m update_fun\n\u001b[1;32m--> 158\u001b[0m \u001b[38;5;28;43mself\u001b[39;49m\u001b[38;5;241;43m.\u001b[39;49m\u001b[43m_update_fun\u001b[49m\u001b[43m(\u001b[49m\u001b[43m)\u001b[49m\n\u001b[0;32m    160\u001b[0m \u001b[38;5;66;03m# Gradient evaluation\u001b[39;00m\n\u001b[0;32m    161\u001b[0m \u001b[38;5;28;01mif\u001b[39;00m \u001b[38;5;28mcallable\u001b[39m(grad):\n",
      "File \u001b[1;32mc:\\Users\\oscar\\AppData\\Local\\Programs\\Python\\Python311\\Lib\\site-packages\\scipy\\optimize\\_differentiable_functions.py:251\u001b[0m, in \u001b[0;36mScalarFunction._update_fun\u001b[1;34m(self)\u001b[0m\n\u001b[0;32m    249\u001b[0m \u001b[38;5;28;01mdef\u001b[39;00m \u001b[38;5;21m_update_fun\u001b[39m(\u001b[38;5;28mself\u001b[39m):\n\u001b[0;32m    250\u001b[0m     \u001b[38;5;28;01mif\u001b[39;00m \u001b[38;5;129;01mnot\u001b[39;00m \u001b[38;5;28mself\u001b[39m\u001b[38;5;241m.\u001b[39mf_updated:\n\u001b[1;32m--> 251\u001b[0m         \u001b[38;5;28;43mself\u001b[39;49m\u001b[38;5;241;43m.\u001b[39;49m\u001b[43m_update_fun_impl\u001b[49m\u001b[43m(\u001b[49m\u001b[43m)\u001b[49m\n\u001b[0;32m    252\u001b[0m         \u001b[38;5;28mself\u001b[39m\u001b[38;5;241m.\u001b[39mf_updated \u001b[38;5;241m=\u001b[39m \u001b[38;5;28;01mTrue\u001b[39;00m\n",
      "File \u001b[1;32mc:\\Users\\oscar\\AppData\\Local\\Programs\\Python\\Python311\\Lib\\site-packages\\scipy\\optimize\\_differentiable_functions.py:155\u001b[0m, in \u001b[0;36mScalarFunction.__init__.<locals>.update_fun\u001b[1;34m()\u001b[0m\n\u001b[0;32m    154\u001b[0m \u001b[38;5;28;01mdef\u001b[39;00m \u001b[38;5;21mupdate_fun\u001b[39m():\n\u001b[1;32m--> 155\u001b[0m     \u001b[38;5;28mself\u001b[39m\u001b[38;5;241m.\u001b[39mf \u001b[38;5;241m=\u001b[39m \u001b[43mfun_wrapped\u001b[49m\u001b[43m(\u001b[49m\u001b[38;5;28;43mself\u001b[39;49m\u001b[38;5;241;43m.\u001b[39;49m\u001b[43mx\u001b[49m\u001b[43m)\u001b[49m\n",
      "File \u001b[1;32mc:\\Users\\oscar\\AppData\\Local\\Programs\\Python\\Python311\\Lib\\site-packages\\scipy\\optimize\\_differentiable_functions.py:137\u001b[0m, in \u001b[0;36mScalarFunction.__init__.<locals>.fun_wrapped\u001b[1;34m(x)\u001b[0m\n\u001b[0;32m    133\u001b[0m \u001b[38;5;28mself\u001b[39m\u001b[38;5;241m.\u001b[39mnfev \u001b[38;5;241m+\u001b[39m\u001b[38;5;241m=\u001b[39m \u001b[38;5;241m1\u001b[39m\n\u001b[0;32m    134\u001b[0m \u001b[38;5;66;03m# Send a copy because the user may overwrite it.\u001b[39;00m\n\u001b[0;32m    135\u001b[0m \u001b[38;5;66;03m# Overwriting results in undefined behaviour because\u001b[39;00m\n\u001b[0;32m    136\u001b[0m \u001b[38;5;66;03m# fun(self.x) will change self.x, with the two no longer linked.\u001b[39;00m\n\u001b[1;32m--> 137\u001b[0m fx \u001b[38;5;241m=\u001b[39m \u001b[43mfun\u001b[49m\u001b[43m(\u001b[49m\u001b[43mnp\u001b[49m\u001b[38;5;241;43m.\u001b[39;49m\u001b[43mcopy\u001b[49m\u001b[43m(\u001b[49m\u001b[43mx\u001b[49m\u001b[43m)\u001b[49m\u001b[43m,\u001b[49m\u001b[43m \u001b[49m\u001b[38;5;241;43m*\u001b[39;49m\u001b[43margs\u001b[49m\u001b[43m)\u001b[49m\n\u001b[0;32m    138\u001b[0m \u001b[38;5;66;03m# Make sure the function returns a true scalar\u001b[39;00m\n\u001b[0;32m    139\u001b[0m \u001b[38;5;28;01mif\u001b[39;00m \u001b[38;5;129;01mnot\u001b[39;00m np\u001b[38;5;241m.\u001b[39misscalar(fx):\n",
      "Cell \u001b[1;32mIn[67], line 2\u001b[0m, in \u001b[0;36moptimizacion\u001b[1;34m(x, *args)\u001b[0m\n\u001b[0;32m      1\u001b[0m \u001b[38;5;28;01mdef\u001b[39;00m \u001b[38;5;21moptimizacion\u001b[39m(x, \u001b[38;5;241m*\u001b[39margs):\n\u001b[1;32m----> 2\u001b[0m     \u001b[38;5;28;01mreturn\u001b[39;00m \u001b[38;5;241m-\u001b[39m\u001b[43masimetria\u001b[49m\u001b[43m(\u001b[49m\u001b[43mx\u001b[49m\u001b[43m,\u001b[49m\u001b[43m \u001b[49m\u001b[38;5;241;43m*\u001b[39;49m\u001b[43margs\u001b[49m\u001b[43m)\u001b[49m\n",
      "\u001b[1;31mTypeError\u001b[0m: asimetria() missing 1 required positional argument: 'eta_i'"
     ]
    }
   ],
   "source": [
    "def optimizacion(x, *args):\n",
    "    return -asimetria(x, *args)\n",
    "\n",
    "# Argumentos adicionales para asimetria, excepto x\n",
    "args = (y, a, b, T, beta, epsilon_i, epsilon_o, 1, 0.5, 0.2, 0)\n",
    "\n",
    "# Valor inicial para x (tau, g)\n",
    "x0 = [y/2, y/4]\n",
    "\n",
    "# Restricciones\n",
    "def restriccion1(x, y):\n",
    "    return y - x[0]  # y - tau >= 0\n",
    "\n",
    "def restriccion2(x):\n",
    "    return x[1]  # g >= 0\n",
    "\n",
    "def restriccion3(x, epsilon_i):\n",
    "    return x[0] + epsilon_i - x[1]  # tau + epsilon_i - g >= 0\n",
    "\n",
    "# Definición de restricciones\n",
    "constraints = (\n",
    "    {'type': 'ineq', 'fun': restriccion1, 'args': (y,)},\n",
    "    {'type': 'ineq', 'fun': restriccion2},\n",
    "    {'type': 'ineq', 'fun': restriccion3, 'args': (epsilon_i,)}  # Aquí epsilon_i es un escalar\n",
    ")\n",
    "\n",
    "\n",
    "# Realizar la optimización\n",
    "resultado = minimize(optimizacion, x0, args=args, constraints=constraints)\n",
    "\n",
    "# Resultados óptimos\n",
    "tau_optimo, g_optimo = resultado.x"
   ]
  },
  {
   "cell_type": "code",
   "execution_count": 68,
   "metadata": {},
   "outputs": [
    {
     "data": {
      "text/plain": [
       "36.84442085119685"
      ]
     },
     "execution_count": 68,
     "metadata": {},
     "output_type": "execute_result"
    }
   ],
   "source": [
    "tau_optimo"
   ]
  },
  {
   "cell_type": "code",
   "execution_count": 40,
   "metadata": {},
   "outputs": [
    {
     "data": {
      "text/plain": [
       "100"
      ]
     },
     "execution_count": 40,
     "metadata": {},
     "output_type": "execute_result"
    }
   ],
   "source": [
    "y"
   ]
  },
  {
   "cell_type": "code",
   "execution_count": 41,
   "metadata": {},
   "outputs": [
    {
     "data": {
      "text/plain": [
       "5.336175945558352e-12"
      ]
     },
     "execution_count": 41,
     "metadata": {},
     "output_type": "execute_result"
    }
   ],
   "source": [
    "tau_optimo + epsilon_i[t] - g_optimo"
   ]
  },
  {
   "cell_type": "code",
   "execution_count": 42,
   "metadata": {},
   "outputs": [
    {
     "data": {
      "text/plain": [
       "36.844420851191515"
      ]
     },
     "execution_count": 42,
     "metadata": {},
     "output_type": "execute_result"
    }
   ],
   "source": [
    "\n",
    "g_optimo"
   ]
  }
 ],
 "metadata": {
  "kernelspec": {
   "display_name": "Python 3",
   "language": "python",
   "name": "python3"
  },
  "language_info": {
   "codemirror_mode": {
    "name": "ipython",
    "version": 3
   },
   "file_extension": ".py",
   "mimetype": "text/x-python",
   "name": "python",
   "nbconvert_exporter": "python",
   "pygments_lexer": "ipython3",
   "version": "3.11.3"
  }
 },
 "nbformat": 4,
 "nbformat_minor": 2
}
