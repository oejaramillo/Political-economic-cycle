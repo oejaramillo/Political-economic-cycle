{
 "cells": [
  {
   "cell_type": "code",
   "execution_count": 1,
   "metadata": {},
   "outputs": [],
   "source": [
    "import numpy as np\n",
    "from scipy.optimize import minimize\n",
    "import matplotlib.pyplot as plt"
   ]
  },
  {
   "cell_type": "markdown",
   "metadata": {},
   "source": [
    "El votante representativo se preocupa por el valor esperado de su función de utilidad  $\\mathbb{E}_{t}^{P}(\\Gamma_{t})$\n",
    "\n",
    "<ul>\n",
    "    <li>c representa el consumo del bien privado por parte de un ciudadano representativo.</li>\n",
    "    <li>g es el consumo del bien público (per cápita)</li>\n",
    "    <li>k es la inversión pública (per cápita)</li>\n",
    "</ul>"
   ]
  },
  {
   "cell_type": "markdown",
   "metadata": {},
   "source": [
    "Función de utilidad del líder $\\mathbf{E}_{t}^{I}(\\Gamma_{t})+\\sum_{s=t}^{T}\\beta^{s-t}X\\pi_{s,t}$"
   ]
  },
  {
   "cell_type": "markdown",
   "metadata": {},
   "source": [
    "Función de elección del líder\n",
    "\n",
    "\\begin{equation}\n",
    "    v_{t} =\n",
    "    \\begin{cases}\n",
    "        1 &  \\text{si } \\mathbf{E}_{t}^{P}(\\Gamma_{t+1}) \\geq \\mathbf{E}_{t}^{P}(\\Gamma_{t+1}^{O})\\\\\n",
    "        0 & \\text{en otro caso}\\\\\n",
    "\\end{cases}\n",
    "\\end{equation}"
   ]
  },
  {
   "cell_type": "markdown",
   "metadata": {},
   "source": [
    "## Equilibrio bajo información completa\n",
    "\n",
    "\\begin{equation}\n",
    "    \\begin{aligned}\n",
    "        \\max_{\\tau, g} & U(y-\\tau, g)+\\beta V(\\tau + \\epsilon - g) \\\\\n",
    "        \\text{sujeto a } & g, y- \\tau, \\tau + \\epsilon-g \\geq 0 \\\\\n",
    "   \\end{aligned}\n",
    "\\end{equation}"
   ]
  },
  {
   "cell_type": "markdown",
   "metadata": {},
   "source": [
    "### En $t=\\bar{t}$"
   ]
  },
  {
   "cell_type": "code",
   "execution_count": 8,
   "metadata": {},
   "outputs": [],
   "source": [
    "# Parámetros\n",
    "a, b = 1, 1\n",
    "beta = 0.95\n",
    "\n",
    "y = 100  # Valor exógeno"
   ]
  },
  {
   "cell_type": "markdown",
   "metadata": {},
   "source": [
    "$$ \\epsilon_{t}^{i} = \\alpha_{t}^{i} + \\alpha_{t-1}^{i}$$\n",
    "$$ \\eta_{t}^{i} = q_{t}^{i} + q_{t-1}^{i}$$"
   ]
  },
  {
   "cell_type": "markdown",
   "metadata": {},
   "source": [
    "$$U(c, g) = a \\ln{c} + b\\ln{g}$$\n",
    "$$V(k) = -\\ln{k}$$"
   ]
  },
  {
   "cell_type": "markdown",
   "metadata": {},
   "source": [
    "### Problema de maximizacion en T periodos de tiempo"
   ]
  },
  {
   "cell_type": "code",
   "execution_count": 51,
   "metadata": {},
   "outputs": [],
   "source": [
    "# Parametros\n",
    "T = 10\n",
    "y = 100\n",
    "beta = 0.95\n",
    "\n",
    "a, b = 1, 1"
   ]
  },
  {
   "cell_type": "code",
   "execution_count": 52,
   "metadata": {},
   "outputs": [],
   "source": [
    "# Probabilidad de que el agente i sea competente en el periodo t \n",
    "p = 0.5\n",
    "# Rango de valores donde viven los shocks de apariencia\n",
    "q_r = range(-10,10) "
   ]
  },
  {
   "cell_type": "code",
   "execution_count": 53,
   "metadata": {},
   "outputs": [],
   "source": [
    "# Valores aleatorios\n",
    "alpha1_i = np.random.binomial(1, p, T-t)\n",
    "alpha2_i = np.random.binomial(1, p, T-t)\n",
    "\n",
    "alpha1_o = np.random.binomial(1, p, T-t)\n",
    "alpha2_o = np.random.binomial(1, p, T-t)\n",
    "\n",
    "epsilon_i = alpha1_i + alpha2_i # competencia del Incumbente independiente entre agentes y en el tiempo\n",
    "epsilon_o = alpha1_o + alpha2_o # competencia del Oponente independiente entre agentes y en el tiempo\n",
    "\n",
    "# -------------------------------------------------------------------------------------------------------------------\n",
    "q1_i = np.random.choice(q_r, T-t)\n",
    "q2_i = np.random.choice(q_r, T-t)\n",
    "\n",
    "q1_o = np.random.choice(q_r, T-t)\n",
    "q2_o = np.random.choice(q_r, T-t)\n",
    "\n",
    "eta_i = q1_i + q2_i # Shock no relacionado con la competencia pero si con el liderazgo del Incumbente independiente entre agentes y en el tiempo\n",
    "eta_o = q1_o + q2_o # Shock no relacionado con la competencia pero si con el liderazgo del Oponente independiente entre agentes y en el tiempo"
   ]
  },
  {
   "cell_type": "code",
   "execution_count": 48,
   "metadata": {},
   "outputs": [],
   "source": [
    "# Definimos la funcion objetivo\n",
    "def funcion_objetivo(x, y, epsilon, beta, a, b):\n",
    "    tau, g = x\n",
    "    c = y - tau\n",
    "    k = tau + epsilon - g\n",
    "    return -(a * np.log(c) + b * np.log(g) + beta * (-np.log(k)))  # Negativo porque usamos un minimizador de scipy\n",
    "\n",
    "# Restricciones (Constraints)\n",
    "def constraint1(x, y):\n",
    "    # y - tau >= 0\n",
    "    return y - x[0]\n",
    "\n",
    "def constraint2(x):\n",
    "    # g >= 0\n",
    "    return x[1]\n",
    "\n",
    "def constraint3(x, epsilon):\n",
    "    # tau + epsilon - g >= 0\n",
    "    return x[0] + epsilon - x[1]"
   ]
  },
  {
   "cell_type": "code",
   "execution_count": 54,
   "metadata": {},
   "outputs": [],
   "source": [
    "# Guess inicial (Por ahora tau y g empiezan tomando valores en la mitad de su rango permitido)\n",
    "x0 = [y/2, y/4]"
   ]
  },
  {
   "cell_type": "markdown",
   "metadata": {},
   "source": [
    "______________________"
   ]
  },
  {
   "cell_type": "markdown",
   "metadata": {},
   "source": [
    "## Parte dinamica"
   ]
  },
  {
   "cell_type": "code",
   "execution_count": 55,
   "metadata": {},
   "outputs": [],
   "source": [
    "# Funcion para optimizar en cada periodo de tiempo\n",
    "def optimizador_cada_t(T, y, beta, a, b, epsilon):\n",
    "    tau_optimo = []\n",
    "    g_optimo = []\n",
    "    valores_max = []\n",
    "\n",
    "    for t in range(T):\n",
    "        # Itera sobre los valores de competencia del agente\n",
    "        epsilon_t = epsilon[t]\n",
    "\n",
    "        # Restricciones por cada periodo de tiempo(epsilon)\n",
    "        con1 = {'type': 'ineq', 'fun': constraint1, 'args': (y,)}\n",
    "        con2 = {'type': 'ineq', 'fun': constraint2}\n",
    "        con3 = {'type': 'ineq', 'fun': constraint3, 'args': (epsilon_t,)}\n",
    "\n",
    "        # Combinamos las restricciones en una lista\n",
    "        constraints_t = [con1, con2, con3]\n",
    "\n",
    "        # Optimiza para ese periodo de tiempo t\n",
    "        resultado_t = minimize(funcion_objetivo, x0, args=(y, epsilon_t, beta, a, b), constraints=constraints_t)\n",
    "\n",
    "        # Guarda los resultados para cada periodo de tiempo\n",
    "        tau_optimo.append(resultado_t.x[0])\n",
    "        g_optimo.append(resultado_t.x[1])\n",
    "        valores_max.append(-resultado_t.fun)\n",
    "\n",
    "    return tau_optimo, g_optimo, valores_max"
   ]
  },
  {
   "cell_type": "code",
   "execution_count": 65,
   "metadata": {},
   "outputs": [
    {
     "name": "stderr",
     "output_type": "stream",
     "text": [
      "C:\\Users\\oscar\\AppData\\Local\\Temp\\ipykernel_16688\\3790639713.py:6: RuntimeWarning: invalid value encountered in log\n",
      "  return -(a * np.log(c) + b * np.log(g) + beta * (-np.log(k)))  # Negativo porque usamos un minimizador de scipy\n"
     ]
    }
   ],
   "source": [
    "# Optimiza T veces para \n",
    "tau_i_optimos_lista, g_i_optimos_lista, utilidades_i_maximos = optimizador_cada_t(T, y, beta, a, b, epsilon_i)\n",
    "\n",
    "# Valor esperado\n",
    "tau_i_esperado = np.mean(tau_i_optimos_lista)\n",
    "g_i_esperado = np.mean(g_i_optimos_lista)\n",
    "\n",
    "utilida_esperada_i = np.mean(utilidades_i_maximos)"
   ]
  },
  {
   "cell_type": "code",
   "execution_count": 66,
   "metadata": {},
   "outputs": [
    {
     "data": {
      "text/plain": [
       "30.19217726303544"
      ]
     },
     "execution_count": 66,
     "metadata": {},
     "output_type": "execute_result"
    }
   ],
   "source": [
    "utilida_esperada_i"
   ]
  },
  {
   "cell_type": "code",
   "execution_count": 67,
   "metadata": {},
   "outputs": [
    {
     "ename": "NameError",
     "evalue": "name 'g_esperado_i' is not defined",
     "output_type": "error",
     "traceback": [
      "\u001b[1;31m---------------------------------------------------------------------------\u001b[0m",
      "\u001b[1;31mNameError\u001b[0m                                 Traceback (most recent call last)",
      "Cell \u001b[1;32mIn[67], line 1\u001b[0m\n\u001b[1;32m----> 1\u001b[0m \u001b[43mg_esperado_i\u001b[49m\n",
      "\u001b[1;31mNameError\u001b[0m: name 'g_esperado_i' is not defined"
     ]
    }
   ],
   "source": [
    "g_esperado_i"
   ]
  },
  {
   "cell_type": "code",
   "execution_count": 60,
   "metadata": {},
   "outputs": [
    {
     "data": {
      "text/plain": [
       "38.88330556844336"
      ]
     },
     "execution_count": 60,
     "metadata": {},
     "output_type": "execute_result"
    }
   ],
   "source": [
    "tau_esperado"
   ]
  }
 ],
 "metadata": {
  "kernelspec": {
   "display_name": "Python 3",
   "language": "python",
   "name": "python3"
  },
  "language_info": {
   "codemirror_mode": {
    "name": "ipython",
    "version": 3
   },
   "file_extension": ".py",
   "mimetype": "text/x-python",
   "name": "python",
   "nbconvert_exporter": "python",
   "pygments_lexer": "ipython3",
   "version": "3.11.3"
  }
 },
 "nbformat": 4,
 "nbformat_minor": 2
}
