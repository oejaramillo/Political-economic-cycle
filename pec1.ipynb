{
 "cells": [
  {
   "cell_type": "code",
   "execution_count": 65,
   "metadata": {},
   "outputs": [],
   "source": [
    "import numpy as np\n",
    "from scipy.optimize import minimize\n",
    "import matplotlib.pyplot as plt"
   ]
  },
  {
   "cell_type": "markdown",
   "metadata": {},
   "source": [
    "El votante representativo se preocupa por el valor esperado de su función de utilidad  $\\mathbb{E}_{t}^{P}(\\Gamma_{t})$\n",
    "\n",
    "<ul>\n",
    "    <li>c representa el consumo del bien privado por parte de un ciudadano representativo.</li>\n",
    "    <li>g es el consumo del bien público (per cápita)</li>\n",
    "    <li>k es la inversión pública (per cápita)</li>\n",
    "</ul>"
   ]
  },
  {
   "cell_type": "code",
   "execution_count": 47,
   "metadata": {},
   "outputs": [],
   "source": [
    "a, b = 1, 1\n",
    "beta = 0.95\n",
    "# Parámetros temporales\n",
    "t = 0  # Punto fijo en el tiempo\n",
    "T = 100  # Final del período"
   ]
  },
  {
   "cell_type": "code",
   "execution_count": 48,
   "metadata": {},
   "outputs": [],
   "source": [
    "# Valores aleatorios\n",
    "alpha1 = np.random.binomial(1, 0.5, T-t)\n",
    "alpha2 = np.random.binomial(1, 0.5, T-t)\n",
    "\n",
    "q1 = np.random.binomial(20, 0.5, T-t)\n",
    "q2 = np.random.binomial(20, 0.5, T-t)\n",
    "\n",
    "epsilon = alpha1 + alpha2 # competencia del agente independiente entre agentes y en el tiempo\n",
    "eta = q1 + q2 # Shock no relacionado con la competencia pero si con el liderazgo independiente entre agentes y en el tiempo"
   ]
  },
  {
   "cell_type": "code",
   "execution_count": 49,
   "metadata": {},
   "outputs": [],
   "source": [
    "y = 100  # Valor exógeno\n",
    "\n",
    "# Valores de elección, por el momento son aleatorios\n",
    "tau = np.random.uniform(0, y, T-t) # tau <= y\n",
    "k = np.array([np.random.uniform(0, tau_val) for tau_val in tau]) # tau - k >= 0\n",
    "\n",
    "# Definiciones de c y g\n",
    "c = y - tau # c >= 0\n",
    "g = tau - k + epsilon # g >= 0"
   ]
  },
  {
   "cell_type": "code",
   "execution_count": 56,
   "metadata": {},
   "outputs": [],
   "source": [
    "# Funciones\n",
    "def U(c, g):\n",
    "    return a*np.log(c) + b*np.log(g)\n",
    "\n",
    "def V(k):\n",
    "    return -np.log(k)\n",
    "\n",
    "def Gamma(c, g, k, eta, beta, t, T):\n",
    "    return [beta**(s-t) * (U(c[s-t], g[s-t]) + V(k[s-t]) + eta[s-t]) for s in range(t, T)]\n",
    "\n",
    "def E_Gamma(X):\n",
    "    return np.mean(X)\n"
   ]
  },
  {
   "cell_type": "code",
   "execution_count": 57,
   "metadata": {},
   "outputs": [
    {
     "name": "stdout",
     "output_type": "stream",
     "text": [
      "Utilidades: [19.267501483215717, 30.373422099806344, 23.081170262490296, 21.786681381788995, 17.882098771117068, 13.23761832713574, 16.243677790081723, 16.294309048847825, 19.610319596402334, 19.055342241051715, 15.405857973116913, 12.334438713106922, 11.703791091549766, 9.43666619195181, 11.359942702980192, 10.58770194415677, 8.302435961290707, 8.11312182254378, 11.473193757024962, 8.954222520552767, 7.937614901155448, 8.13322887935155, 7.222113612698594, 6.3028894281602, 6.8711143051517665, 6.479254834440031, 6.538600794572057, 5.066951752660338, 6.361245296099959, 5.466788834192165, 5.719731468442905, 5.544905197673133, 4.276848218112698, 4.353176217658516, 5.051320174150474, 3.782999647859132, 4.22385274613557, 4.0689480269154, 2.547003688844663, 2.915232284840432, 2.516980925643319, 2.00616921603838, 2.2687670682961616, 2.661459736064743, 3.3481139601862653, 2.149608887698399, 1.470560086645828, 2.160410578055159, 2.2310895633915258, 2.405631953149103, 1.8261574553436923, 2.2153883348959993, 1.7333522949526872, 1.8929007008716832, 1.4140271833782052, 1.4382441651037756, 1.411336670699797, 1.3571355937721903, 1.0185477925661521, 1.2051226865182565, 1.3993032748166854, 0.6732279011401939, 0.9506348500383844, 0.817100308720632, 0.7172003613231941, 0.606678209235124, 0.8281667869271575, 0.7191185007578861, 0.802444488963935, 0.6074138131913784, 0.7677048591625326, 0.5912451919450294, 0.5202864253182304, 0.4953658657806263, 0.5263482753553189, 0.5551111040828316, 0.4454368719591714, 0.40572111766406455, 0.4088791186704478, 0.3763549232314719, 0.3213495795687176, 0.27373690585466687, 0.35579318071213967, 0.40561316948771936, 0.2668277260586901, 0.31930236512169685, 0.2950969730768268, 0.24945629409221068, 0.328563823100517, 0.2348371174182893, 0.2879104816685014, 0.2548818856051436, 0.2591403198435949, 0.21588476214944832, 0.21222647017261295, 0.1757983915068727, 0.18245775157563687, 0.147950302463523, 0.15655157770564246, 0.1435748518628466]\n",
      "Resultado de la utilidad esperada 4.703990350199284\n"
     ]
    }
   ],
   "source": [
    "# Ejemplo de uso de la función Gamma de utilidad esperada del agente para T periodos\n",
    "utilidad = Gamma(c, g, k, eta, beta, t, T)\n",
    "print(\"Utilidades:\", utilidad)\n",
    "utilida_esperada = E_Gamma(utilidad)\n",
    "print(\"Resultado de la utilidad esperada\", utilida_esperada)\n",
    "\n"
   ]
  },
  {
   "cell_type": "markdown",
   "metadata": {},
   "source": [
    "Función de utilidad del líder $\\mathbf{E}_{t}^{I}(\\Gamma_{t})+\\sum_{s=t}^{T}\\beta^{s-t}X\\pi_{s,t}$"
   ]
  },
  {
   "cell_type": "markdown",
   "metadata": {},
   "source": [
    "Función de elección del líder\n",
    "\n",
    "\\begin{equation}\n",
    "    v_{t} =\n",
    "    \\begin{cases}\n",
    "        1 &  \\text{si } \\mathbf{E}_{t}^{P}(\\Gamma_{t+1}) \\geq \\mathbf{E}_{t}^{P}(\\Gamma_{t+1}^{O})\\\\\n",
    "        0 & \\text{en otro caso}\\\\\n",
    "\\end{cases}\n",
    "\\end{equation}"
   ]
  },
  {
   "cell_type": "markdown",
   "metadata": {},
   "source": [
    "## Equilibrio bajo información completa\n",
    "\n",
    "\\begin{equation}\n",
    "    \\begin{aligned}\n",
    "        \\max_{\\tau, g} & U(y-\\tau, g)+\\beta V(\\tau + \\epsilon - g) \\\\\n",
    "        \\text{sujeto a } & g, y- \\tau, \\tau + \\epsilon-g \\geq 0 \\\\\n",
    "   \\end{aligned}\n",
    "\\end{equation}"
   ]
  },
  {
   "cell_type": "markdown",
   "metadata": {},
   "source": [
    "### En $t=\\bar{t}$"
   ]
  },
  {
   "cell_type": "code",
   "execution_count": 66,
   "metadata": {},
   "outputs": [],
   "source": [
    "# Parámetros\n",
    "a, b = 1, 1\n",
    "beta = 0.95\n",
    "\n",
    "y = 100  # Valor exógeno"
   ]
  },
  {
   "cell_type": "code",
   "execution_count": 67,
   "metadata": {},
   "outputs": [],
   "source": [
    "# Valores aleatorios\n",
    "alpha1 = np.random.binomial(1, 0.5, T-t)\n",
    "alpha2 = np.random.binomial(1, 0.5, T-t)\n",
    "\n",
    "q1 = np.random.binomial(20, 0.5, T-t)\n",
    "q2 = np.random.binomial(20, 0.5, T-t)\n",
    "\n",
    "epsilon = alpha1 + alpha2 # competencia del agente independiente entre agentes y en el tiempo\n",
    "eta = q1 + q2 # Shock no relacionado con la competencia pero si con el liderazgo independiente entre agentes y en el tiempo"
   ]
  },
  {
   "cell_type": "code",
   "execution_count": 68,
   "metadata": {},
   "outputs": [],
   "source": [
    "# Funciones estáticas de utilidad\n",
    "def U(c, g):\n",
    "    return a*np.log(c) + b*np.log(g)\n",
    "\n",
    "def V(k):\n",
    "    return -np.log(k)"
   ]
  },
  {
   "cell_type": "code",
   "execution_count": 73,
   "metadata": {},
   "outputs": [
    {
     "name": "stderr",
     "output_type": "stream",
     "text": [
      "C:\\Users\\OscarJaramillo\\AppData\\Local\\Temp\\ipykernel_30460\\3146507759.py:9: RuntimeWarning: invalid value encountered in log\n",
      "  return -(a * np.log(c) + b * np.log(g) + beta * (-np.log(k)))  # Negative because we are using a minimizer\n"
     ]
    },
    {
     "data": {
      "text/plain": [
       "(array([31.84811569, 51.84811569]), 38.075397337432136)"
      ]
     },
     "execution_count": 73,
     "metadata": {},
     "output_type": "execute_result"
    }
   ],
   "source": [
    "import numpy as np\n",
    "from scipy.optimize import minimize\n",
    "\n",
    "# Objective function to maximize\n",
    "def objective_function(x, y, epsilon, beta, a, b):\n",
    "    tau, g = x\n",
    "    c = y - tau\n",
    "    k = tau + epsilon - g\n",
    "    return -(a * np.log(c) + b * np.log(g) + beta * (-np.log(k)))  # Negative because we are using a minimizer\n",
    "\n",
    "# Constraints\n",
    "def constraint1(x, y):\n",
    "    # y - tau >= 0\n",
    "    return y - x[0]\n",
    "\n",
    "def constraint2(x):\n",
    "    # g >= 0\n",
    "    return x[1]\n",
    "\n",
    "def constraint3(x, epsilon):\n",
    "    # tau + epsilon - g >= 0\n",
    "    return x[0] + epsilon - x[1]\n",
    "\n",
    "# Set parameters\n",
    "a, b = 1, 1\n",
    "beta = 0.95\n",
    "y = 100\n",
    "\n",
    "# Example values for epsilon\n",
    "epsilon_example = np.random.choice([0, 10, 20])\n",
    "\n",
    "# Constraints\n",
    "con1 = {'type': 'ineq', 'fun': constraint1, 'args': (y,)}\n",
    "con2 = {'type': 'ineq', 'fun': constraint2}\n",
    "con3 = {'type': 'ineq', 'fun': constraint3, 'args': (epsilon_example,)}\n",
    "\n",
    "# Combine constraints\n",
    "constraints = [con1, con2, con3]\n",
    "\n",
    "# Initial guess (start from the middle of the allowed range for tau and g)\n",
    "x0 = [y/2, y/4]\n",
    "\n",
    "# Perform optimization\n",
    "result = minimize(objective_function, x0, args=(y, epsilon_example, beta, a, b), constraints=constraints)\n",
    "\n",
    "result.x, -result.fun  # Optimal tau and g, and the maximum value of the objective function\n"
   ]
  },
  {
   "cell_type": "code",
   "execution_count": 74,
   "metadata": {},
   "outputs": [
    {
     "name": "stderr",
     "output_type": "stream",
     "text": [
      "C:\\Users\\OscarJaramillo\\AppData\\Local\\Temp\\ipykernel_30460\\3146507759.py:9: RuntimeWarning: invalid value encountered in log\n",
      "  return -(a * np.log(c) + b * np.log(g) + beta * (-np.log(k)))  # Negative because we are using a minimizer\n"
     ]
    },
    {
     "data": {
      "text/plain": [
       "([31.848115690491518,\n",
       "  35.519987191204926,\n",
       "  31.848115690491518,\n",
       "  39.30665359442016,\n",
       "  31.848115690491518,\n",
       "  39.30665359442016,\n",
       "  35.519987191204926,\n",
       "  39.30665359442016,\n",
       "  31.848115690491518,\n",
       "  35.519987191204926],\n",
       " [51.8481156904915,\n",
       "  45.51998719120103,\n",
       "  51.8481156904915,\n",
       "  39.30665359441338,\n",
       "  51.8481156904915,\n",
       "  39.30665359441338,\n",
       "  45.51998719120103,\n",
       "  39.30665359441338,\n",
       "  51.8481156904915,\n",
       "  45.51998719120103],\n",
       " [38.075397337432136,\n",
       "  32.94256689467652,\n",
       "  38.075397337432136,\n",
       "  32.208619008979404,\n",
       "  38.075397337432136,\n",
       "  32.208619008979404,\n",
       "  32.94256689467652,\n",
       "  32.208619008979404,\n",
       "  38.075397337432136,\n",
       "  32.94256689467652])"
      ]
     },
     "execution_count": 74,
     "metadata": {},
     "output_type": "execute_result"
    }
   ],
   "source": [
    "# Setting the time period t\n",
    "T = 10\n",
    "\n",
    "# Function to perform the optimization for each time period\n",
    "def optimize_for_each_time_period(T, y, beta, a, b):\n",
    "    optimal_tau = []\n",
    "    optimal_g = []\n",
    "    max_values = []\n",
    "\n",
    "    for t in range(T):\n",
    "        # Generate random values for epsilon\n",
    "        epsilon_t = np.random.choice([0, 10, 20])\n",
    "\n",
    "        # Constraints for this time period\n",
    "        con1 = {'type': 'ineq', 'fun': constraint1, 'args': (y,)}\n",
    "        con2 = {'type': 'ineq', 'fun': constraint2}\n",
    "        con3 = {'type': 'ineq', 'fun': constraint3, 'args': (epsilon_t,)}\n",
    "\n",
    "        # Combine constraints\n",
    "        constraints_t = [con1, con2, con3]\n",
    "\n",
    "        # Perform optimization for this time period\n",
    "        result_t = minimize(objective_function, x0, args=(y, epsilon_t, beta, a, b), constraints=constraints_t)\n",
    "\n",
    "        # Store the results\n",
    "        optimal_tau.append(result_t.x[0])\n",
    "        optimal_g.append(result_t.x[1])\n",
    "        max_values.append(-result_t.fun)\n",
    "\n",
    "    return optimal_tau, optimal_g, max_values\n",
    "\n",
    "# Perform the optimization for T time periods\n",
    "optimal_tau_list, optimal_g_list, max_values_list = optimize_for_each_time_period(T, y, beta, a, b)\n",
    "\n",
    "optimal_tau_list, optimal_g_list, max_values_list\n"
   ]
  }
 ],
 "metadata": {
  "kernelspec": {
   "display_name": "Python 3",
   "language": "python",
   "name": "python3"
  },
  "language_info": {
   "codemirror_mode": {
    "name": "ipython",
    "version": 3
   },
   "file_extension": ".py",
   "mimetype": "text/x-python",
   "name": "python",
   "nbconvert_exporter": "python",
   "pygments_lexer": "ipython3",
   "version": "3.11.2"
  }
 },
 "nbformat": 4,
 "nbformat_minor": 2
}
